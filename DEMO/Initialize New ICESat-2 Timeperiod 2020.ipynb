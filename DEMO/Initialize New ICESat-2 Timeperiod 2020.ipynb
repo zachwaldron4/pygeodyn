{
 "cells": [
  {
   "cell_type": "markdown",
   "id": "041e21a2",
   "metadata": {},
   "source": [
    "Shows how to construct the precise science orbit files (also serves as the initial conditions file) and PCE/G2B binary files from \"raw\" inputs provided by the GEODYN team for ICESat-2.\n",
    "\n",
    "\n",
    "\n",
    "First the rawinputs must be prepped."
   ]
  },
  {
   "cell_type": "code",
   "execution_count": null,
   "id": "d83a4d82",
   "metadata": {},
   "outputs": [],
   "source": [
    "import pandas as pd\n",
    "import numpy  as np\n",
    "import os\n",
    "import os.path\n",
    "import shutil\n",
    "import sys\n",
    "from gc import collect as gc_collect\n"
   ]
  },
  {
   "cell_type": "code",
   "execution_count": null,
   "id": "6678f18a",
   "metadata": {},
   "outputs": [],
   "source": [
    "%load_ext autoreload\n",
    "%autoreload 2\n",
    "\n",
    "from pygeodyn.PYGEODYN import Pygeodyn\n",
    "\n",
    "run_list = ['dtm2020_o']\n"
   ]
  },
  {
   "cell_type": "code",
   "execution_count": null,
   "id": "bd5efe33",
   "metadata": {},
   "outputs": [],
   "source": [
    "%load_ext autoreload\n",
    "%autoreload 2\n",
    "from gc import collect as gc_collect\n",
    "import pickle \n",
    "import os\n",
    "from datetime import datetime,timedelta\n",
    "\n",
    "obj = {}\n",
    "\n",
    "\n",
    "for i,den in enumerate(run_list):\n",
    "    settings_ice2= {# Basic input settings\n",
    "                 'satellite'            : {'input': 'icesat2'},\n",
    "                 'den_model'            : {'input': den},\n",
    "                 'initialize_satellite' : {'input': True},\n",
    "                 'run_type'       : {'input': 'DataReduction_PCE'},\n",
    "                 'epoch_start'    : {'input': [\"2019-04-28\",\n",
    "                                               \"2019-06-03\" ]},\n",
    "                 }\n",
    "\n",
    "startdate = \"2019-03-28\"  \n",
    "enddate   = \"2019-05-03\"  \n",
    "\n",
    "sat = Pygeodyn(settings_ice2, use_file=False)\n",
    "sat.initialize_timeperiod_stage1(startdate, enddate,\n",
    "                             overwrite_exat=False, \n",
    "                             overwrite_ICtext=True)\n",
    "sat = 0"
   ]
  },
  {
   "cell_type": "code",
   "execution_count": null,
   "id": "b7e7e2cf",
   "metadata": {},
   "outputs": [],
   "source": []
  },
  {
   "cell_type": "code",
   "execution_count": null,
   "id": "813cd3b7",
   "metadata": {},
   "outputs": [],
   "source": []
  }
 ],
 "metadata": {
  "kernelspec": {
   "display_name": "Python 3 (ipykernel)",
   "language": "python",
   "name": "python3"
  },
  "language_info": {
   "codemirror_mode": {
    "name": "ipython",
    "version": 3
   },
   "file_extension": ".py",
   "mimetype": "text/x-python",
   "name": "python",
   "nbconvert_exporter": "python",
   "pygments_lexer": "ipython3",
   "version": "3.12.2"
  },
  "toc": {
   "base_numbering": 1,
   "nav_menu": {},
   "number_sections": true,
   "sideBar": true,
   "skip_h1_title": false,
   "title_cell": "Table of Contents",
   "title_sidebar": "Contents",
   "toc_cell": false,
   "toc_position": {},
   "toc_section_display": true,
   "toc_window_display": false
  },
  "varInspector": {
   "cols": {
    "lenName": 16,
    "lenType": 16,
    "lenVar": 40
   },
   "kernels_config": {
    "python": {
     "delete_cmd_postfix": "",
     "delete_cmd_prefix": "del ",
     "library": "var_list.py",
     "varRefreshCmd": "print(var_dic_list())"
    },
    "r": {
     "delete_cmd_postfix": ") ",
     "delete_cmd_prefix": "rm(",
     "library": "var_list.r",
     "varRefreshCmd": "cat(var_dic_list()) "
    }
   },
   "types_to_exclude": [
    "module",
    "function",
    "builtin_function_or_method",
    "instance",
    "_Feature"
   ],
   "window_display": false
  }
 },
 "nbformat": 4,
 "nbformat_minor": 5
}
