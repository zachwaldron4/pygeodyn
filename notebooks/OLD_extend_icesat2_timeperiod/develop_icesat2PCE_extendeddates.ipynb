{
 "cells": [
  {
   "cell_type": "code",
   "execution_count": null,
   "id": "fd9a74f2",
   "metadata": {},
   "outputs": [],
   "source": [
    "from pygeodyn.PYGEODYN import Pygeodyn\n",
    "from pygeodyn.pygeodyn_plot_scalingfactors import *\n",
    "\n",
    "import datetime\n"
   ]
  },
  {
   "cell_type": "markdown",
   "id": "fedd59c2",
   "metadata": {},
   "source": [
    "# Prep"
   ]
  },
  {
   "cell_type": "code",
   "execution_count": 1,
   "id": "1177f4f3",
   "metadata": {
    "ExecuteTime": {
     "end_time": "2023-08-24T18:28:13.336690Z",
     "start_time": "2023-08-24T18:28:13.328844Z"
    }
   },
   "outputs": [
    {
     "name": "stdout",
     "output_type": "stream",
     "text": [
      "{'msis2': {'num': 5, 'model_path': None}}\n"
     ]
    }
   ],
   "source": [
    "run_list = [\n",
    "                'msis2',\n",
    "#                 'jb2008',\n",
    "#                 'dtm2020_o',\n",
    "#                 'tiegcm_oc',\n",
    "#                 'ctipe_oc',\n",
    "#####                 'hasdm_oc',\n",
    "           ]\n",
    "\n",
    "\n",
    "yaxis_range = [-13.7 -.55 ,  -12.6+.25]# ] #full_fig.layout.yaxis2.range\n",
    "\n",
    "\n",
    "CD_type = '30hrarc_scale3hr'\n",
    "\n",
    "plot_dir='/data/SatDragModelValidation/notebooks/Paper2023_icesat2_assessment/plots/'\n",
    "\n",
    "dir_modeldat='/data/SatDragModelValidation/data/inputs/atmos_models'\n",
    "run_dict={}\n",
    "for i in run_list:\n",
    "    if i =='msis2':\n",
    "        run_dict[i]={}\n",
    "        run_dict[i]['num'] = 5 \n",
    "        run_dict[i]['model_path'] = None\n",
    "\n",
    "    if i =='dtm2020_o':\n",
    "        run_dict[i]={}\n",
    "        run_dict[i]['num'] = 3 \n",
    "        run_dict[i]['model_path'] = None\n",
    "\n",
    "    if i =='jb2008':\n",
    "        run_dict[i]={}\n",
    "        run_dict[i]['num'] = 1 \n",
    "        run_dict[i]['model_path'] = None\n",
    "\n",
    "print(run_dict)"
   ]
  },
  {
   "cell_type": "markdown",
   "id": "d0f8a6a9",
   "metadata": {},
   "source": [
    "## Construct Arc Times"
   ]
  },
  {
   "cell_type": "code",
   "execution_count": null,
   "id": "8e47d0ce",
   "metadata": {},
   "outputs": [],
   "source": [
    "timestart = pd.to_datetime('2018-11-09 00:00:00', format='%Y-%m-%d %H:%M:%S')\n",
    "# timeend   = pd.to_datetime('2018-11-23 00:00:00', format='%Y-%m-%d %H:%M:%S')\n",
    "timeend   = pd.to_datetime('2018-11-11 00:00:00', format='%Y-%m-%d %H:%M:%S')\n",
    "\n",
    "arc_list         = []\n",
    "epoch_start_24hcenter = []\n",
    "epoch_end_24hcenter   = []\n",
    "\n",
    "itime = timestart\n",
    "while itime < timeend:\n",
    "               \n",
    "    itime_0 = itime\n",
    "    itime = itime + pd.to_timedelta(24,'h')\n",
    "    \n",
    "    arc_list.append(itime_0.strftime('%Y.%j'))\n",
    "    epoch_start_24hcenter.append(itime_0.strftime('%Y-%m-%d %H:%M:%S'))\n",
    "    epoch_end_24hcenter.append(itime.strftime(  '%Y-%m-%d %H:%M:%S'))\n",
    "\n",
    "    print(' ',itime_0.strftime('%Y.%j'),itime_0, ' to ', itime)        \n",
    "\n",
    "    \n",
    "##### update the epoch start to be 3-hours before and epoch end to be 3 hours later\n",
    "\n",
    "epoch_start_list = []\n",
    "epoch_end_list   = []\n",
    "\n",
    "\n",
    "for i in epoch_start_24hcenter:\n",
    "    itime = pd.to_datetime(i) - pd.to_timedelta(3,'h')\n",
    "    epoch_start_list.append(itime.strftime('%Y-%m-%d %H:%M:%S'))\n",
    "\n",
    "for i in epoch_end_24hcenter:\n",
    "    itime = pd.to_datetime(i) + pd.to_timedelta(3,'h')\n",
    "    epoch_end_list.append(itime.strftime('%Y-%m-%d %H:%M:%S'))\n",
    " \n",
    "    \n",
    "print(arc_list)\n",
    "print()\n",
    "print(epoch_start_list)\n",
    "print()\n",
    "print(epoch_end_list)"
   ]
  },
  {
   "cell_type": "code",
   "execution_count": null,
   "id": "7bc2db3e",
   "metadata": {},
   "outputs": [],
   "source": []
  },
  {
   "cell_type": "markdown",
   "id": "443df995",
   "metadata": {},
   "source": [
    "## Run Orbit Fits"
   ]
  },
  {
   "cell_type": "code",
   "execution_count": null,
   "id": "7bac9ebd",
   "metadata": {},
   "outputs": [],
   "source": [
    "%load_ext autoreload\n",
    "%autoreload 2\n",
    "\n",
    "from gc import collect as gc_collect\n",
    "import pickle \n",
    "import os\n",
    "\n",
    "\n",
    "file_raw_ICs = f\"/data/SatDragModelValidation/data/inputs/sat_icesat2/g2b/\"\\\n",
    "          +\"ICESat2_RawEphem_20181108_20181124.txt\"\n",
    "\n",
    "\n",
    "dir_save    =  '/data/SatDragModelValidation/data/outputs_clean/'\\\n",
    "             + 'icesat2/Paper2023_icesat2_assessment/results_2weeks_30harc_3hScaled/'\n",
    "\n",
    "\n",
    "    \n",
    "if CD_type == '30hrarc_scale3hr':\n",
    "    cd_adjustment_boolean = True \n",
    "    hours_between_cd_adj  = 3\n",
    "    file_string           = '30harc_3hScaled'\n",
    "\n",
    "    pickleName = '_2weeks_30harc_3hScaled.pkl'\n",
    "    \n",
    "obj = {}\n",
    "for i,den in enumerate(run_list):\n",
    "    settings_icesat2= {\n",
    "                 ### Basic input settings\n",
    "                 'satellite'      : {'input': 'icesat2'},\n",
    "                 'den_model'      : {'input': den},\n",
    "                 'run_type'       : {'input': 'DataReduction_PCE'},\n",
    "                 'run_specifier'  : {'input': '_30harc_3hScaled'},\n",
    "                 'cd_model'       : {'input': 'BWDRAG'},\n",
    "                 'file_string'    : {'input': file_string},\n",
    "                 'model_data_path': {'input': run_dict[den]['model_path']},\n",
    "                 ### Force Model settings\n",
    "                  'cd_type'               : {'input':\"Fixed_CD\"},\n",
    "                  'cd_value'              : {'input': 2.500000},\n",
    "                  'scaling_factor'        : {'input': False},  # (dria)\n",
    "                  #### Comment for unadjusted run:\n",
    "                  'cd_adjustment_boolean' : {'input':cd_adjustment_boolean },\n",
    "                  'hours_between_cd_adj'  : {'input':hours_between_cd_adj  },\n",
    "                  ### ---------------------------------------\n",
    "                  ### Run\n",
    "                  'step'           : {'input': 10.},\n",
    "                  'orbfil_step'    : {'input': 120.},\n",
    "                  'which_ICfile'   : {'input':file_raw_ICs},\n",
    "                  ###\n",
    "                  'arc'            : {'input':arc_list},\n",
    "                  'epoch_start'    : {'input':epoch_start_list},\n",
    "                  'epoch_stop'     : {'input':epoch_end_list},  \n",
    "                                \n",
    "                  'global_options' : {'input':'pso_2018'},\n",
    "                  ### Request read on raw outputs\n",
    "                  'request_data'   : {'input': ['Trajectory_orbfil', \n",
    "                                               'Density', \n",
    "                                               'Residuals_summary',\n",
    "                                               'DragFile',\n",
    "                                               'AdjustedParams'\n",
    "                                               ]},\n",
    "              ### end dict\n",
    "              }\n",
    "\n",
    "    \n",
    "    sat = Pygeodyn(settings_icesat2, use_file=False)\n",
    "    sat.run_arcs()\n",
    "#     obj[den] =  sat.getData_BigData_lowmemory()\n",
    "    gc_collect()\n",
    "\n",
    "\n",
    "\n",
    "#     pickle_file = dir_save+den+pickleName\n",
    "#     if not os.path.exists(pickle_file):\n",
    "#         print('Must create pickle file...')\n",
    "#         print('   ',  pickle_file)\n",
    "#         print('   ', 'Reading Geodyn Data')\n",
    "\n",
    "#         ### Load the data into an object\n",
    "#         sat = Pygeodyn(settings_icesat2, use_file=False)\n",
    "#         obj = sat.getData_BigData_lowmemory()\n",
    "#         gc_collect()\n",
    "\n",
    "#         #### Pickle the object to save it\n",
    "#         print('   ', 'Saving pickle')\n",
    "#         filehandler = open(pickle_file, 'wb') \n",
    "#         pickle.dump(vars(obj), filehandler)\n",
    "#         filehandler.close()\n",
    "#         obj = 0\n",
    "#         print('   ', 'Saved pickle')\n",
    "\n",
    "# obj = {}\n",
    "# for i,model in enumerate(run_list):     \n",
    "#     ### Load the data if the pickles exist\n",
    "#     print()\n",
    "#     print()\n",
    "#     gc_collect()\n",
    "\n",
    "#     pickle_file = dir_save+model+pickleName\n",
    "\n",
    "#     filehandler = open(pickle_file, 'rb') \n",
    "#     obj[model] = pickle.load(filehandler)\n",
    "#     filehandler.close()\n",
    "#     print('Loaded data from pickle... ', model)\n",
    "\n"
   ]
  }
 ],
 "metadata": {
  "kernelspec": {
   "display_name": "Python 3",
   "language": "python",
   "name": "python3"
  },
  "language_info": {
   "codemirror_mode": {
    "name": "ipython",
    "version": 3
   },
   "file_extension": ".py",
   "mimetype": "text/x-python",
   "name": "python",
   "nbconvert_exporter": "python",
   "pygments_lexer": "ipython3",
   "version": "3.8.8"
  },
  "toc": {
   "base_numbering": 1,
   "nav_menu": {},
   "number_sections": true,
   "sideBar": true,
   "skip_h1_title": false,
   "title_cell": "Table of Contents",
   "title_sidebar": "Contents",
   "toc_cell": false,
   "toc_position": {},
   "toc_section_display": true,
   "toc_window_display": false
  },
  "varInspector": {
   "cols": {
    "lenName": 16,
    "lenType": 16,
    "lenVar": 40
   },
   "kernels_config": {
    "python": {
     "delete_cmd_postfix": "",
     "delete_cmd_prefix": "del ",
     "library": "var_list.py",
     "varRefreshCmd": "print(var_dic_list())"
    },
    "r": {
     "delete_cmd_postfix": ") ",
     "delete_cmd_prefix": "rm(",
     "library": "var_list.r",
     "varRefreshCmd": "cat(var_dic_list()) "
    }
   },
   "types_to_exclude": [
    "module",
    "function",
    "builtin_function_or_method",
    "instance",
    "_Feature"
   ],
   "window_display": false
  }
 },
 "nbformat": 4,
 "nbformat_minor": 5
}
