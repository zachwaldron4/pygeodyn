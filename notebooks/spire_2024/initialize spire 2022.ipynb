{
 "cells": [
  {
   "cell_type": "code",
   "execution_count": 1,
   "id": "e7a85442-83c4-464a-b0a7-237e6aec831e",
   "metadata": {
    "ExecuteTime": {
     "end_time": "2024-10-08T16:21:35.110284Z",
     "start_time": "2024-10-08T16:21:34.743524Z"
    },
    "execution": {
     "iopub.execute_input": "2024-04-30T20:58:41.635752Z",
     "iopub.status.busy": "2024-04-30T20:58:41.635529Z",
     "iopub.status.idle": "2024-04-30T20:58:42.007346Z",
     "shell.execute_reply": "2024-04-30T20:58:42.006430Z",
     "shell.execute_reply.started": "2024-04-30T20:58:41.635728Z"
    }
   },
   "outputs": [],
   "source": [
    "import pandas as pd"
   ]
  },
  {
   "cell_type": "code",
   "execution_count": 2,
   "id": "2f2c972e",
   "metadata": {
    "ExecuteTime": {
     "end_time": "2024-10-08T16:21:35.151380Z",
     "start_time": "2024-10-08T16:21:35.113291Z"
    },
    "execution": {
     "iopub.execute_input": "2024-04-30T20:58:42.008704Z",
     "iopub.status.busy": "2024-04-30T20:58:42.008317Z",
     "iopub.status.idle": "2024-04-30T20:58:42.060361Z",
     "shell.execute_reply": "2024-04-30T20:58:42.059574Z",
     "shell.execute_reply.started": "2024-04-30T20:58:42.008678Z"
    }
   },
   "outputs": [],
   "source": [
    "%load_ext autoreload\n",
    "%autoreload 2\n",
    "\n",
    "from pygeodyn.PYGEODYN import Pygeodyn\n",
    "from gc import collect as gc_collect\n",
    "\n",
    "scaling_cadence = 3\n",
    "scale_cadence = scaling_cadence\n",
    "run_list = [\n",
    "#                 'msis2',\n",
    "#                 'jb2008',\n",
    "                'dtm2020_o',\n",
    "            ]\n"
   ]
  },
  {
   "cell_type": "code",
   "execution_count": 3,
   "id": "9838b968",
   "metadata": {
    "ExecuteTime": {
     "end_time": "2024-10-08T17:30:42.121828Z",
     "start_time": "2024-10-08T16:21:35.153331Z"
    },
    "execution": {
     "iopub.execute_input": "2024-04-30T20:58:42.062156Z",
     "iopub.status.busy": "2024-04-30T20:58:42.061917Z",
     "iopub.status.idle": "2024-04-30T21:00:01.440003Z",
     "shell.execute_reply": "2024-04-30T21:00:01.439131Z",
     "shell.execute_reply.started": "2024-04-30T20:58:42.062133Z"
    },
    "scrolled": false,
    "slideshow": {
     "slide_type": ""
    },
    "tags": []
   },
   "outputs": [
    {
     "name": "stdout",
     "output_type": "stream",
     "text": [
      "The autoreload extension is already loaded. To reload it, use:\n",
      "  %reload_ext autoreload\n",
      "  * Global Option not needed during Initializing Stage\n",
      "Using class 'Spire_Lemur2_v3.7'\n",
      "----------------------------------------------------------------------------\n",
      "Initializing the time period from2022-05-29 00:00:00 to 2022-07-04 00:00:00\n",
      "     overwriting the epoch start and stop to match\n",
      "     self.prms['arc'] ['2022.149', '2022.150', '2022.151', '2022.152', '2022.153', '2022.154', '2022.155', '2022.156', '2022.157', '2022.158', '2022.159', '2022.160', '2022.161', '2022.162', '2022.163', '2022.164', '2022.165', '2022.166', '2022.167', '2022.168', '2022.169', '2022.170', '2022.171', '2022.172', '2022.173', '2022.174', '2022.175', '2022.176', '2022.177', '2022.178', '2022.179', '2022.180', '2022.181', '2022.182', '2022.183', '2022.184']\n",
      "----------------------------------------------------------------------------\n",
      "\n",
      "  * Global Option not needed during Initializing Stage\n",
      "Using class 'Spire_Lemur2_v3.7'\n",
      "Step 0: Make directory structure for satellite input data\n",
      "  * Directory Exists:  /data/SatDragModelValidation/data/inputs/sat_spire104\n",
      "  * Directory Exists:  /data/SatDragModelValidation/data/inputs/sat_spire104/setups\n",
      "  * Directory Exists:  /data/SatDragModelValidation/data/inputs/sat_spire104/external_attitude\n",
      "  * Directory Exists:  /data/SatDragModelValidation/data/inputs/sat_spire104/g2b\n",
      "Step 1: Construct daily external Attitude files\n",
      "  * Making an external attitude file: EXAT01.2022.149\n",
      "        - converting dates from GPS to TDT.\n",
      "        - converting quaternions from SBF-->RSW to SBF-->J2000\n",
      "        - Interpolate Quaternions to linearly spaced time series from 2022-05-28 18:00:00 to 2022-05-30 06:00:00\n",
      "start_date 2022-05-28 18:00:00\n",
      "stop_date 2022-05-30 06:00:00\n",
      "['2022-05-28T00:00:52.964000000' '2022-05-28T00:00:56.964000000'\n",
      " '2022-05-28T00:01:02.964000000' ... '2022-05-31T00:00:23.574000000'\n",
      " '2022-05-31T00:00:34.474000000' '2022-05-31T00:00:44.474000000']\n",
      "        - Write to a binary EXAT file.\n",
      "        - Reached end of attitude data.  Closing the File\n",
      "        - Saving external attitude as a text file\n",
      "        - filetxt /data/SatDragModelValidation/data/inputs/sat_spire104/external_attitude/EXAT01.2022.149_check.txt\n"
     ]
    },
    {
     "name": "stderr",
     "output_type": "stream",
     "text": [
      "/data/SatDragModelValidation/pygeodyn/pygeodyn/util_dir/attitude_binary.py:172: FutureWarning: 'S' is deprecated and will be removed in a future version, please use 's' instead.\n",
      "  times_linspace = pd.date_range(start=startDT, end=stopDT, freq=freq_str)\n",
      "/data/SatDragModelValidation/data/inputs/sat_spire104/external_attitude/EXAT01.2022.149:\t 60.5% -- replaced with /data/SatDragModelValidation/data/inputs/sat_spire104/external_attitude/EXAT01.2022.149.gz\n"
     ]
    },
    {
     "name": "stdout",
     "output_type": "stream",
     "text": [
      "  * Making an external attitude file: EXAT01.2022.150\n",
      "start_date 2022-05-29 18:00:00\n",
      "stop_date 2022-05-31 06:00:00\n",
      "['2022-05-29T00:00:56.684000000' '2022-05-29T00:01:06.684000000'\n",
      " '2022-05-29T00:01:16.684000000' ... '2022-06-01T00:00:27.654000000'\n",
      " '2022-06-01T00:00:37.654000000' '2022-06-01T00:00:47.654000000']\n"
     ]
    },
    {
     "name": "stderr",
     "output_type": "stream",
     "text": [
      "/data/SatDragModelValidation/pygeodyn/pygeodyn/util_dir/attitude_binary.py:172: FutureWarning: 'S' is deprecated and will be removed in a future version, please use 's' instead.\n",
      "  times_linspace = pd.date_range(start=startDT, end=stopDT, freq=freq_str)\n",
      "/data/SatDragModelValidation/data/inputs/sat_spire104/external_attitude/EXAT01.2022.150:\t 60.5% -- replaced with /data/SatDragModelValidation/data/inputs/sat_spire104/external_attitude/EXAT01.2022.150.gz\n"
     ]
    },
    {
     "name": "stdout",
     "output_type": "stream",
     "text": [
      "  * Making an external attitude file: EXAT01.2022.151\n",
      "start_date 2022-05-30 18:00:00\n",
      "stop_date 2022-06-01 06:00:00\n",
      "['2022-05-30T00:01:00.464000000' '2022-05-30T00:01:10.464000000'\n",
      " '2022-05-30T00:01:20.464000000' ... '2022-06-02T00:00:31.434000000'\n",
      " '2022-06-02T00:00:41.434000000' '2022-06-02T00:00:50.434000000']\n"
     ]
    },
    {
     "name": "stderr",
     "output_type": "stream",
     "text": [
      "/data/SatDragModelValidation/pygeodyn/pygeodyn/util_dir/attitude_binary.py:172: FutureWarning: 'S' is deprecated and will be removed in a future version, please use 's' instead.\n",
      "  times_linspace = pd.date_range(start=startDT, end=stopDT, freq=freq_str)\n",
      "/data/SatDragModelValidation/data/inputs/sat_spire104/external_attitude/EXAT01.2022.151:\t 60.5% -- replaced with /data/SatDragModelValidation/data/inputs/sat_spire104/external_attitude/EXAT01.2022.151.gz\n"
     ]
    },
    {
     "name": "stdout",
     "output_type": "stream",
     "text": [
      "  * Making an external attitude file: EXAT01.2022.152\n",
      "start_date 2022-05-31 18:00:00\n",
      "stop_date 2022-06-02 06:00:00\n",
      "['2022-05-31T00:00:54.474000000' '2022-05-31T00:01:04.474000000'\n",
      " '2022-05-31T00:01:05.974000000' ... '2022-06-03T00:00:24.284000000'\n",
      " '2022-06-03T00:00:34.284000000' '2022-06-03T00:00:44.214000000']\n"
     ]
    },
    {
     "name": "stderr",
     "output_type": "stream",
     "text": [
      "/data/SatDragModelValidation/pygeodyn/pygeodyn/util_dir/attitude_binary.py:172: FutureWarning: 'S' is deprecated and will be removed in a future version, please use 's' instead.\n",
      "  times_linspace = pd.date_range(start=startDT, end=stopDT, freq=freq_str)\n",
      "/data/SatDragModelValidation/data/inputs/sat_spire104/external_attitude/EXAT01.2022.152:\t 60.5% -- replaced with /data/SatDragModelValidation/data/inputs/sat_spire104/external_attitude/EXAT01.2022.152.gz\n"
     ]
    },
    {
     "name": "stdout",
     "output_type": "stream",
     "text": [
      "  * Making an external attitude file: EXAT01.2022.153\n",
      "start_date 2022-06-01 18:00:00\n",
      "stop_date 2022-06-03 06:00:00\n",
      "['2022-06-01T00:00:57.654000000' '2022-06-01T00:01:07.574000000'\n",
      " '2022-06-01T00:01:17.574000000' ... '2022-06-04T00:00:29.464000000'\n",
      " '2022-06-04T00:00:39.464000000' '2022-06-04T00:00:49.464000000']\n"
     ]
    },
    {
     "name": "stderr",
     "output_type": "stream",
     "text": [
      "/data/SatDragModelValidation/pygeodyn/pygeodyn/util_dir/attitude_binary.py:172: FutureWarning: 'S' is deprecated and will be removed in a future version, please use 's' instead.\n",
      "  times_linspace = pd.date_range(start=startDT, end=stopDT, freq=freq_str)\n",
      "/data/SatDragModelValidation/data/inputs/sat_spire104/external_attitude/EXAT01.2022.153:\t 60.5% -- replaced with /data/SatDragModelValidation/data/inputs/sat_spire104/external_attitude/EXAT01.2022.153.gz\n"
     ]
    },
    {
     "name": "stdout",
     "output_type": "stream",
     "text": [
      "  * Making an external attitude file: EXAT01.2022.154\n",
      "start_date 2022-06-02 18:00:00\n",
      "stop_date 2022-06-04 06:00:00\n",
      "['2022-06-02T00:00:51.434000000' '2022-06-02T00:01:01.434000000'\n",
      " '2022-06-02T00:01:11.434000000' ... '2022-06-05T00:00:22.324000000'\n",
      " '2022-06-05T00:00:32.324000000' '2022-06-05T00:00:43.214000000']\n"
     ]
    },
    {
     "name": "stderr",
     "output_type": "stream",
     "text": [
      "/data/SatDragModelValidation/pygeodyn/pygeodyn/util_dir/attitude_binary.py:172: FutureWarning: 'S' is deprecated and will be removed in a future version, please use 's' instead.\n",
      "  times_linspace = pd.date_range(start=startDT, end=stopDT, freq=freq_str)\n",
      "gzip: /data/SatDragModelValidation/data/inputs/sat_spire104/external_attitude/EXAT01.2022.154.gz already exists;\tnot overwritten\n"
     ]
    },
    {
     "name": "stdout",
     "output_type": "stream",
     "text": [
      "  * Making an external attitude file: EXAT01.2022.155\n",
      "start_date 2022-06-03 18:00:00\n",
      "stop_date 2022-06-05 06:00:00\n",
      "['2022-06-03T00:00:54.214000000' '2022-06-03T00:01:04.214000000'\n",
      " '2022-06-03T00:01:04.464000000' ... '2022-06-06T00:00:26.284000000'\n",
      " '2022-06-06T00:00:36.284000000' '2022-06-06T00:00:46.284000000']\n"
     ]
    },
    {
     "name": "stderr",
     "output_type": "stream",
     "text": [
      "/data/SatDragModelValidation/pygeodyn/pygeodyn/util_dir/attitude_binary.py:172: FutureWarning: 'S' is deprecated and will be removed in a future version, please use 's' instead.\n",
      "  times_linspace = pd.date_range(start=startDT, end=stopDT, freq=freq_str)\n",
      "gzip: /data/SatDragModelValidation/data/inputs/sat_spire104/external_attitude/EXAT01.2022.155.gz already exists;\tnot overwritten\n"
     ]
    },
    {
     "name": "stdout",
     "output_type": "stream",
     "text": [
      "  * Making an external attitude file: EXAT01.2022.156\n",
      "start_date 2022-06-04 18:00:00\n",
      "stop_date 2022-06-06 06:00:00\n",
      "['2022-06-04T00:00:59.464000000' '2022-06-04T00:01:09.464000000'\n",
      " '2022-06-04T00:01:19.464000000' ... '2022-06-07T00:00:38.934000000'\n",
      " '2022-06-07T00:00:43.824000000' '2022-06-07T00:00:48.824000000']\n"
     ]
    },
    {
     "name": "stderr",
     "output_type": "stream",
     "text": [
      "/data/SatDragModelValidation/pygeodyn/pygeodyn/util_dir/attitude_binary.py:172: FutureWarning: 'S' is deprecated and will be removed in a future version, please use 's' instead.\n",
      "  times_linspace = pd.date_range(start=startDT, end=stopDT, freq=freq_str)\n",
      "gzip: /data/SatDragModelValidation/data/inputs/sat_spire104/external_attitude/EXAT01.2022.156.gz already exists;\tnot overwritten\n"
     ]
    },
    {
     "name": "stdout",
     "output_type": "stream",
     "text": [
      "  * Making an external attitude file: EXAT01.2022.157\n",
      "start_date 2022-06-05 18:00:00\n",
      "stop_date 2022-06-07 06:00:00\n",
      "['2022-06-05T00:00:53.214000000' '2022-06-05T00:01:03.214000000'\n",
      " '2022-06-05T00:01:13.214000000' ... '2022-06-08T00:00:22.684000000'\n",
      " '2022-06-08T00:00:32.684000000' '2022-06-08T00:00:42.684000000']\n"
     ]
    },
    {
     "name": "stderr",
     "output_type": "stream",
     "text": [
      "/data/SatDragModelValidation/pygeodyn/pygeodyn/util_dir/attitude_binary.py:172: FutureWarning: 'S' is deprecated and will be removed in a future version, please use 's' instead.\n",
      "  times_linspace = pd.date_range(start=startDT, end=stopDT, freq=freq_str)\n",
      "gzip: /data/SatDragModelValidation/data/inputs/sat_spire104/external_attitude/EXAT01.2022.157.gz already exists;\tnot overwritten\n"
     ]
    },
    {
     "name": "stdout",
     "output_type": "stream",
     "text": [
      "  * Making an external attitude file: EXAT01.2022.158\n",
      "start_date 2022-06-06 18:00:00\n",
      "stop_date 2022-06-08 06:00:00\n",
      "['2022-06-06T00:00:56.284000000' '2022-06-06T00:01:06.284000000'\n",
      " '2022-06-06T00:01:16.214000000' ... '2022-06-09T00:00:27.684000000'\n",
      " '2022-06-09T00:00:37.684000000' '2022-06-09T00:00:47.684000000']\n"
     ]
    },
    {
     "name": "stderr",
     "output_type": "stream",
     "text": [
      "/data/SatDragModelValidation/pygeodyn/pygeodyn/util_dir/attitude_binary.py:172: FutureWarning: 'S' is deprecated and will be removed in a future version, please use 's' instead.\n",
      "  times_linspace = pd.date_range(start=startDT, end=stopDT, freq=freq_str)\n",
      "gzip: /data/SatDragModelValidation/data/inputs/sat_spire104/external_attitude/EXAT01.2022.158.gz already exists;\tnot overwritten\n"
     ]
    },
    {
     "name": "stdout",
     "output_type": "stream",
     "text": [
      "  * Making an external attitude file: EXAT01.2022.159\n",
      "start_date 2022-06-07 18:00:00\n",
      "stop_date 2022-06-09 06:00:00\n",
      "['2022-06-07T00:00:58.824000000' '2022-06-07T00:01:08.824000000'\n",
      " '2022-06-07T00:01:18.824000000' ... '2022-06-10T00:00:24.574000000'\n",
      " '2022-06-10T00:00:34.574000000' '2022-06-10T00:00:44.574000000']\n"
     ]
    },
    {
     "name": "stderr",
     "output_type": "stream",
     "text": [
      "/data/SatDragModelValidation/pygeodyn/pygeodyn/util_dir/attitude_binary.py:172: FutureWarning: 'S' is deprecated and will be removed in a future version, please use 's' instead.\n",
      "  times_linspace = pd.date_range(start=startDT, end=stopDT, freq=freq_str)\n",
      "gzip: /data/SatDragModelValidation/data/inputs/sat_spire104/external_attitude/EXAT01.2022.159.gz already exists;\tnot overwritten\n"
     ]
    },
    {
     "name": "stdout",
     "output_type": "stream",
     "text": [
      "  * Making an external attitude file: EXAT01.2022.160\n",
      "start_date 2022-06-08 18:00:00\n",
      "stop_date 2022-06-10 06:00:00\n",
      "['2022-06-08T00:00:52.574000000' '2022-06-08T00:01:02.574000000'\n",
      " '2022-06-08T00:01:08.074000000' ... '2022-06-11T00:00:41.074000000'\n",
      " '2022-06-11T00:00:50.824000000' '2022-06-11T00:00:51.074000000']\n"
     ]
    },
    {
     "name": "stderr",
     "output_type": "stream",
     "text": [
      "/data/SatDragModelValidation/pygeodyn/pygeodyn/util_dir/attitude_binary.py:172: FutureWarning: 'S' is deprecated and will be removed in a future version, please use 's' instead.\n",
      "  times_linspace = pd.date_range(start=startDT, end=stopDT, freq=freq_str)\n",
      "gzip: /data/SatDragModelValidation/data/inputs/sat_spire104/external_attitude/EXAT01.2022.160.gz already exists;\tnot overwritten\n"
     ]
    },
    {
     "name": "stdout",
     "output_type": "stream",
     "text": [
      "  * Making an external attitude file: EXAT01.2022.161\n",
      "start_date 2022-06-09 18:00:00\n",
      "stop_date 2022-06-11 06:00:00\n",
      "['2022-06-09T00:00:57.684000000' '2022-06-09T00:01:01.184000000'\n",
      " '2022-06-09T00:01:07.574000000' ... '2022-06-12T00:00:31.714000000'\n",
      " '2022-06-12T00:00:35.964000000' '2022-06-12T00:00:45.964000000']\n"
     ]
    },
    {
     "name": "stderr",
     "output_type": "stream",
     "text": [
      "/data/SatDragModelValidation/pygeodyn/pygeodyn/util_dir/attitude_binary.py:172: FutureWarning: 'S' is deprecated and will be removed in a future version, please use 's' instead.\n",
      "  times_linspace = pd.date_range(start=startDT, end=stopDT, freq=freq_str)\n",
      "gzip: /data/SatDragModelValidation/data/inputs/sat_spire104/external_attitude/EXAT01.2022.161.gz already exists;\tnot overwritten\n"
     ]
    },
    {
     "name": "stdout",
     "output_type": "stream",
     "text": [
      "  * Making an external attitude file: EXAT01.2022.162\n",
      "start_date 2022-06-10 18:00:00\n",
      "stop_date 2022-06-12 06:00:00\n",
      "['2022-06-10T00:00:54.574000000' '2022-06-10T00:01:04.574000000'\n",
      " '2022-06-10T00:01:14.464000000' ... '2022-06-13T00:00:26.434000000'\n",
      " '2022-06-13T00:00:31.684000000' '2022-06-13T00:00:41.574000000']\n"
     ]
    },
    {
     "name": "stderr",
     "output_type": "stream",
     "text": [
      "/data/SatDragModelValidation/pygeodyn/pygeodyn/util_dir/attitude_binary.py:172: FutureWarning: 'S' is deprecated and will be removed in a future version, please use 's' instead.\n",
      "  times_linspace = pd.date_range(start=startDT, end=stopDT, freq=freq_str)\n",
      "gzip: /data/SatDragModelValidation/data/inputs/sat_spire104/external_attitude/EXAT01.2022.162.gz already exists;\tnot overwritten\n"
     ]
    },
    {
     "name": "stdout",
     "output_type": "stream",
     "text": [
      "  * Making an external attitude file: EXAT01.2022.163\n",
      "start_date 2022-06-11 18:00:00\n",
      "stop_date 2022-06-13 06:00:00\n",
      "['2022-06-11T00:01:01.074000000' '2022-06-11T00:01:11.074000000'\n",
      " '2022-06-11T00:01:20.964000000' ... '2022-06-14T00:00:26.324000000'\n",
      " '2022-06-14T00:00:36.324000000' '2022-06-14T00:00:46.324000000']\n"
     ]
    },
    {
     "name": "stderr",
     "output_type": "stream",
     "text": [
      "/data/SatDragModelValidation/pygeodyn/pygeodyn/util_dir/attitude_binary.py:172: FutureWarning: 'S' is deprecated and will be removed in a future version, please use 's' instead.\n",
      "  times_linspace = pd.date_range(start=startDT, end=stopDT, freq=freq_str)\n",
      "gzip: /data/SatDragModelValidation/data/inputs/sat_spire104/external_attitude/EXAT01.2022.163.gz already exists;\tnot overwritten\n"
     ]
    },
    {
     "name": "stdout",
     "output_type": "stream",
     "text": [
      "  * Making an external attitude file: EXAT01.2022.164\n",
      "start_date 2022-06-12 18:00:00\n",
      "stop_date 2022-06-14 06:00:00\n",
      "['2022-06-12T00:00:55.964000000' '2022-06-12T00:01:05.964000000'\n",
      " '2022-06-12T00:01:15.964000000' ... '2022-06-15T00:00:32.924000000'\n",
      " '2022-06-15T00:00:38.674000000' '2022-06-15T00:00:48.674000000']\n"
     ]
    },
    {
     "name": "stderr",
     "output_type": "stream",
     "text": [
      "/data/SatDragModelValidation/pygeodyn/pygeodyn/util_dir/attitude_binary.py:172: FutureWarning: 'S' is deprecated and will be removed in a future version, please use 's' instead.\n",
      "  times_linspace = pd.date_range(start=startDT, end=stopDT, freq=freq_str)\n",
      "gzip: /data/SatDragModelValidation/data/inputs/sat_spire104/external_attitude/EXAT01.2022.164.gz already exists;\tnot overwritten\n"
     ]
    },
    {
     "name": "stdout",
     "output_type": "stream",
     "text": [
      "  * Making an external attitude file: EXAT01.2022.165\n",
      "start_date 2022-06-13 18:00:00\n",
      "stop_date 2022-06-15 06:00:00\n",
      "['2022-06-13T00:00:51.574000000' '2022-06-13T00:01:01.574000000'\n",
      " '2022-06-13T00:01:11.574000000' ... '2022-06-16T00:00:31.074000000'\n",
      " '2022-06-16T00:00:41.074000000' '2022-06-16T00:00:51.074000000']\n"
     ]
    },
    {
     "name": "stderr",
     "output_type": "stream",
     "text": [
      "/data/SatDragModelValidation/pygeodyn/pygeodyn/util_dir/attitude_binary.py:172: FutureWarning: 'S' is deprecated and will be removed in a future version, please use 's' instead.\n",
      "  times_linspace = pd.date_range(start=startDT, end=stopDT, freq=freq_str)\n",
      "gzip: /data/SatDragModelValidation/data/inputs/sat_spire104/external_attitude/EXAT01.2022.165.gz already exists;\tnot overwritten\n"
     ]
    },
    {
     "name": "stdout",
     "output_type": "stream",
     "text": [
      "  * Making an external attitude file: EXAT01.2022.166\n",
      "start_date 2022-06-14 18:00:00\n",
      "stop_date 2022-06-16 06:00:00\n",
      "['2022-06-14T00:00:56.324000000' '2022-06-14T00:01:06.324000000'\n",
      " '2022-06-14T00:01:11.824000000' ... '2022-06-17T00:00:22.824000000'\n",
      " '2022-06-17T00:00:32.824000000' '2022-06-17T00:00:42.824000000']\n"
     ]
    },
    {
     "name": "stderr",
     "output_type": "stream",
     "text": [
      "/data/SatDragModelValidation/pygeodyn/pygeodyn/util_dir/attitude_binary.py:172: FutureWarning: 'S' is deprecated and will be removed in a future version, please use 's' instead.\n",
      "  times_linspace = pd.date_range(start=startDT, end=stopDT, freq=freq_str)\n",
      "gzip: /data/SatDragModelValidation/data/inputs/sat_spire104/external_attitude/EXAT01.2022.166.gz already exists;\tnot overwritten\n"
     ]
    },
    {
     "name": "stdout",
     "output_type": "stream",
     "text": [
      "  * Making an external attitude file: EXAT01.2022.167\n",
      "start_date 2022-06-15 18:00:00\n",
      "stop_date 2022-06-17 06:00:00\n",
      "['2022-06-15T00:00:58.674000000' '2022-06-15T00:01:08.674000000'\n",
      " '2022-06-15T00:01:18.574000000' ... '2022-06-18T00:00:36.074000000'\n",
      " '2022-06-18T00:00:46.074000000' '2022-06-18T00:00:49.214000000']\n"
     ]
    },
    {
     "name": "stderr",
     "output_type": "stream",
     "text": [
      "/data/SatDragModelValidation/pygeodyn/pygeodyn/util_dir/attitude_binary.py:172: FutureWarning: 'S' is deprecated and will be removed in a future version, please use 's' instead.\n",
      "  times_linspace = pd.date_range(start=startDT, end=stopDT, freq=freq_str)\n",
      "gzip: /data/SatDragModelValidation/data/inputs/sat_spire104/external_attitude/EXAT01.2022.167.gz already exists;\tnot overwritten\n"
     ]
    },
    {
     "name": "stdout",
     "output_type": "stream",
     "text": [
      "  * Making an external attitude file: EXAT01.2022.168\n",
      "start_date 2022-06-16 18:00:00\n",
      "stop_date 2022-06-18 06:00:00\n",
      "['2022-06-16T00:01:01.074000000' '2022-06-16T00:01:05.824000000'\n",
      " '2022-06-16T00:01:11.074000000' ... '2022-06-19T00:00:28.464000000'\n",
      " '2022-06-19T00:00:39.434000000' '2022-06-19T00:00:49.434000000']\n"
     ]
    },
    {
     "name": "stderr",
     "output_type": "stream",
     "text": [
      "/data/SatDragModelValidation/pygeodyn/pygeodyn/util_dir/attitude_binary.py:172: FutureWarning: 'S' is deprecated and will be removed in a future version, please use 's' instead.\n",
      "  times_linspace = pd.date_range(start=startDT, end=stopDT, freq=freq_str)\n",
      "gzip: /data/SatDragModelValidation/data/inputs/sat_spire104/external_attitude/EXAT01.2022.168.gz already exists;\tnot overwritten\n"
     ]
    },
    {
     "name": "stdout",
     "output_type": "stream",
     "text": [
      "  * Making an external attitude file: EXAT01.2022.169\n",
      "start_date 2022-06-17 18:00:00\n",
      "stop_date 2022-06-19 06:00:00\n",
      "['2022-06-17T00:00:52.824000000' '2022-06-17T00:01:01.824000000'\n",
      " '2022-06-17T00:01:02.824000000' ... '2022-06-20T00:00:30.684000000'\n",
      " '2022-06-20T00:00:40.684000000' '2022-06-20T00:00:50.684000000']\n"
     ]
    },
    {
     "name": "stderr",
     "output_type": "stream",
     "text": [
      "/data/SatDragModelValidation/pygeodyn/pygeodyn/util_dir/attitude_binary.py:172: FutureWarning: 'S' is deprecated and will be removed in a future version, please use 's' instead.\n",
      "  times_linspace = pd.date_range(start=startDT, end=stopDT, freq=freq_str)\n",
      "gzip: /data/SatDragModelValidation/data/inputs/sat_spire104/external_attitude/EXAT01.2022.169.gz already exists;\tnot overwritten\n"
     ]
    },
    {
     "name": "stdout",
     "output_type": "stream",
     "text": [
      "  * Making an external attitude file: EXAT01.2022.170\n",
      "start_date 2022-06-18 18:00:00\n",
      "stop_date 2022-06-20 06:00:00\n",
      "['2022-06-18T00:00:55.964000000' '2022-06-18T00:01:05.964000000'\n",
      " '2022-06-18T00:01:15.964000000' ... '2022-06-21T00:00:33.434000000'\n",
      " '2022-06-21T00:00:33.934000000' '2022-06-21T00:00:43.934000000']\n"
     ]
    },
    {
     "name": "stderr",
     "output_type": "stream",
     "text": [
      "/data/SatDragModelValidation/pygeodyn/pygeodyn/util_dir/attitude_binary.py:172: FutureWarning: 'S' is deprecated and will be removed in a future version, please use 's' instead.\n",
      "  times_linspace = pd.date_range(start=startDT, end=stopDT, freq=freq_str)\n",
      "gzip: /data/SatDragModelValidation/data/inputs/sat_spire104/external_attitude/EXAT01.2022.170.gz already exists;\tnot overwritten\n"
     ]
    },
    {
     "name": "stdout",
     "output_type": "stream",
     "text": [
      "  * Making an external attitude file: EXAT01.2022.171\n",
      "start_date 2022-06-19 18:00:00\n",
      "stop_date 2022-06-21 06:00:00\n",
      "['2022-06-19T00:00:59.434000000' '2022-06-19T00:01:09.434000000'\n",
      " '2022-06-19T00:01:19.434000000' ... '2022-06-22T00:00:26.434000000'\n",
      " '2022-06-22T00:00:36.434000000' '2022-06-22T00:00:46.434000000']\n"
     ]
    },
    {
     "name": "stderr",
     "output_type": "stream",
     "text": [
      "/data/SatDragModelValidation/pygeodyn/pygeodyn/util_dir/attitude_binary.py:172: FutureWarning: 'S' is deprecated and will be removed in a future version, please use 's' instead.\n",
      "  times_linspace = pd.date_range(start=startDT, end=stopDT, freq=freq_str)\n",
      "gzip: /data/SatDragModelValidation/data/inputs/sat_spire104/external_attitude/EXAT01.2022.171.gz already exists;\tnot overwritten\n"
     ]
    },
    {
     "name": "stdout",
     "output_type": "stream",
     "text": [
      "  * Making an external attitude file: EXAT01.2022.172\n",
      "start_date 2022-06-20 18:00:00\n",
      "stop_date 2022-06-22 06:00:00\n",
      "['2022-06-20T00:01:00.684000000' '2022-06-20T00:01:10.684000000'\n",
      " '2022-06-20T00:01:20.574000000' ... '2022-06-23T00:00:28.934000000'\n",
      " '2022-06-23T00:00:38.824000000' '2022-06-23T00:00:48.824000000']\n"
     ]
    },
    {
     "name": "stderr",
     "output_type": "stream",
     "text": [
      "/data/SatDragModelValidation/pygeodyn/pygeodyn/util_dir/attitude_binary.py:172: FutureWarning: 'S' is deprecated and will be removed in a future version, please use 's' instead.\n",
      "  times_linspace = pd.date_range(start=startDT, end=stopDT, freq=freq_str)\n",
      "gzip: /data/SatDragModelValidation/data/inputs/sat_spire104/external_attitude/EXAT01.2022.172.gz already exists;\tnot overwritten\n"
     ]
    },
    {
     "name": "stdout",
     "output_type": "stream",
     "text": [
      "  * Making an external attitude file: EXAT01.2022.173\n",
      "start_date 2022-06-21 18:00:00\n",
      "stop_date 2022-06-23 06:00:00\n",
      "['2022-06-21T00:00:53.934000000' '2022-06-21T00:01:03.934000000'\n",
      " '2022-06-21T00:01:13.824000000' ... '2022-06-24T00:00:22.464000000'\n",
      " '2022-06-24T00:00:32.434000000' '2022-06-24T00:00:42.434000000']\n"
     ]
    },
    {
     "name": "stderr",
     "output_type": "stream",
     "text": [
      "/data/SatDragModelValidation/pygeodyn/pygeodyn/util_dir/attitude_binary.py:172: FutureWarning: 'S' is deprecated and will be removed in a future version, please use 's' instead.\n",
      "  times_linspace = pd.date_range(start=startDT, end=stopDT, freq=freq_str)\n",
      "gzip: /data/SatDragModelValidation/data/inputs/sat_spire104/external_attitude/EXAT01.2022.173.gz already exists;\tnot overwritten\n"
     ]
    },
    {
     "name": "stdout",
     "output_type": "stream",
     "text": [
      "  * Making an external attitude file: EXAT01.2022.174\n",
      "start_date 2022-06-22 18:00:00\n",
      "stop_date 2022-06-24 06:00:00\n",
      "['2022-06-22T00:00:53.324000000' '2022-06-22T00:00:57.324000000'\n",
      " '2022-06-22T00:01:07.324000000' ... '2022-06-25T00:00:37.464000000'\n",
      " '2022-06-25T00:00:38.964000000' '2022-06-25T00:00:47.464000000']\n"
     ]
    },
    {
     "name": "stderr",
     "output_type": "stream",
     "text": [
      "/data/SatDragModelValidation/pygeodyn/pygeodyn/util_dir/attitude_binary.py:172: FutureWarning: 'S' is deprecated and will be removed in a future version, please use 's' instead.\n",
      "  times_linspace = pd.date_range(start=startDT, end=stopDT, freq=freq_str)\n",
      "gzip: /data/SatDragModelValidation/data/inputs/sat_spire104/external_attitude/EXAT01.2022.174.gz already exists;\tnot overwritten\n"
     ]
    },
    {
     "name": "stdout",
     "output_type": "stream",
     "text": [
      "  * Making an external attitude file: EXAT01.2022.175\n",
      "start_date 2022-06-23 18:00:00\n",
      "stop_date 2022-06-25 06:00:00\n",
      "['2022-06-23T00:00:54.324000000' '2022-06-23T00:00:58.824000000'\n",
      " '2022-06-23T00:01:08.824000000' ... '2022-06-26T00:00:30.324000000'\n",
      " '2022-06-26T00:00:40.214000000' '2022-06-26T00:00:50.214000000']\n"
     ]
    },
    {
     "name": "stderr",
     "output_type": "stream",
     "text": [
      "/data/SatDragModelValidation/pygeodyn/pygeodyn/util_dir/attitude_binary.py:172: FutureWarning: 'S' is deprecated and will be removed in a future version, please use 's' instead.\n",
      "  times_linspace = pd.date_range(start=startDT, end=stopDT, freq=freq_str)\n",
      "gzip: /data/SatDragModelValidation/data/inputs/sat_spire104/external_attitude/EXAT01.2022.175.gz already exists;\tnot overwritten\n"
     ]
    },
    {
     "name": "stdout",
     "output_type": "stream",
     "text": [
      "  * Making an external attitude file: EXAT01.2022.176\n",
      "start_date 2022-06-24 18:00:00\n",
      "stop_date 2022-06-26 06:00:00\n",
      "['2022-06-24T00:00:52.434000000' '2022-06-24T00:01:02.434000000'\n",
      " '2022-06-24T00:01:02.934000000' ... '2022-06-27T00:00:23.964000000'\n",
      " '2022-06-27T00:00:33.964000000' '2022-06-27T00:00:43.964000000']\n"
     ]
    },
    {
     "name": "stderr",
     "output_type": "stream",
     "text": [
      "/data/SatDragModelValidation/pygeodyn/pygeodyn/util_dir/attitude_binary.py:172: FutureWarning: 'S' is deprecated and will be removed in a future version, please use 's' instead.\n",
      "  times_linspace = pd.date_range(start=startDT, end=stopDT, freq=freq_str)\n",
      "gzip: /data/SatDragModelValidation/data/inputs/sat_spire104/external_attitude/EXAT01.2022.176.gz already exists;\tnot overwritten\n"
     ]
    },
    {
     "name": "stdout",
     "output_type": "stream",
     "text": [
      "  * Making an external attitude file: EXAT01.2022.177\n",
      "start_date 2022-06-25 18:00:00\n",
      "stop_date 2022-06-27 06:00:00\n",
      "['2022-06-25T00:00:57.464000000' '2022-06-25T00:01:07.464000000'\n",
      " '2022-06-25T00:01:17.464000000' ... '2022-06-28T00:00:36.824000000'\n",
      " '2022-06-28T00:00:42.074000000' '2022-06-28T00:00:46.824000000']\n"
     ]
    },
    {
     "name": "stderr",
     "output_type": "stream",
     "text": [
      "/data/SatDragModelValidation/pygeodyn/pygeodyn/util_dir/attitude_binary.py:172: FutureWarning: 'S' is deprecated and will be removed in a future version, please use 's' instead.\n",
      "  times_linspace = pd.date_range(start=startDT, end=stopDT, freq=freq_str)\n",
      "gzip: /data/SatDragModelValidation/data/inputs/sat_spire104/external_attitude/EXAT01.2022.177.gz already exists;\tnot overwritten\n"
     ]
    },
    {
     "name": "stdout",
     "output_type": "stream",
     "text": [
      "  * Making an external attitude file: EXAT01.2022.178\n",
      "start_date 2022-06-26 18:00:00\n",
      "stop_date 2022-06-28 06:00:00\n",
      "['2022-06-26T00:01:00.214000000' '2022-06-26T00:01:06.214000000'\n",
      " '2022-06-26T00:01:10.214000000' ... '2022-06-29T00:00:29.464000000'\n",
      " '2022-06-29T00:00:39.464000000' '2022-06-29T00:00:49.464000000']\n"
     ]
    },
    {
     "name": "stderr",
     "output_type": "stream",
     "text": [
      "/data/SatDragModelValidation/pygeodyn/pygeodyn/util_dir/attitude_binary.py:172: FutureWarning: 'S' is deprecated and will be removed in a future version, please use 's' instead.\n",
      "  times_linspace = pd.date_range(start=startDT, end=stopDT, freq=freq_str)\n",
      "gzip: /data/SatDragModelValidation/data/inputs/sat_spire104/external_attitude/EXAT01.2022.178.gz already exists;\tnot overwritten\n"
     ]
    },
    {
     "name": "stdout",
     "output_type": "stream",
     "text": [
      "  * Making an external attitude file: EXAT01.2022.179\n",
      "start_date 2022-06-27 18:00:00\n",
      "stop_date 2022-06-29 06:00:00\n",
      "['2022-06-27T00:00:53.934000000' '2022-06-27T00:01:03.934000000'\n",
      " '2022-06-27T00:01:13.934000000' ... '2022-06-30T00:00:33.684000000'\n",
      " '2022-06-30T00:00:39.684000000' '2022-06-30T00:00:43.684000000']\n"
     ]
    },
    {
     "name": "stderr",
     "output_type": "stream",
     "text": [
      "/data/SatDragModelValidation/pygeodyn/pygeodyn/util_dir/attitude_binary.py:172: FutureWarning: 'S' is deprecated and will be removed in a future version, please use 's' instead.\n",
      "  times_linspace = pd.date_range(start=startDT, end=stopDT, freq=freq_str)\n",
      "gzip: /data/SatDragModelValidation/data/inputs/sat_spire104/external_attitude/EXAT01.2022.179.gz already exists;\tnot overwritten\n"
     ]
    },
    {
     "name": "stdout",
     "output_type": "stream",
     "text": [
      "  * Making an external attitude file: EXAT01.2022.180\n",
      "start_date 2022-06-28 18:00:00\n",
      "stop_date 2022-06-30 06:00:00\n",
      "['2022-06-28T00:00:56.824000000' '2022-06-28T00:01:06.824000000'\n",
      " '2022-06-28T00:01:16.824000000' ... '2022-07-01T00:00:29.074000000'\n",
      " '2022-07-01T00:00:37.574000000' '2022-07-01T00:00:47.574000000']\n"
     ]
    },
    {
     "name": "stderr",
     "output_type": "stream",
     "text": [
      "/data/SatDragModelValidation/pygeodyn/pygeodyn/util_dir/attitude_binary.py:172: FutureWarning: 'S' is deprecated and will be removed in a future version, please use 's' instead.\n",
      "  times_linspace = pd.date_range(start=startDT, end=stopDT, freq=freq_str)\n",
      "gzip: /data/SatDragModelValidation/data/inputs/sat_spire104/external_attitude/EXAT01.2022.180.gz already exists;\tnot overwritten\n"
     ]
    },
    {
     "name": "stdout",
     "output_type": "stream",
     "text": [
      "  * Making an external attitude file: EXAT01.2022.181\n",
      "start_date 2022-06-29 18:00:00\n",
      "stop_date 2022-07-01 06:00:00\n",
      "['2022-06-29T00:00:59.464000000' '2022-06-29T00:01:09.464000000'\n",
      " '2022-06-29T00:01:19.434000000' ... '2022-07-02T00:00:28.434000000'\n",
      " '2022-07-02T00:00:38.434000000' '2022-07-02T00:00:48.434000000']\n"
     ]
    },
    {
     "name": "stderr",
     "output_type": "stream",
     "text": [
      "/data/SatDragModelValidation/pygeodyn/pygeodyn/util_dir/attitude_binary.py:172: FutureWarning: 'S' is deprecated and will be removed in a future version, please use 's' instead.\n",
      "  times_linspace = pd.date_range(start=startDT, end=stopDT, freq=freq_str)\n",
      "/data/SatDragModelValidation/data/inputs/sat_spire104/external_attitude/EXAT01.2022.181:\t 60.4% -- replaced with /data/SatDragModelValidation/data/inputs/sat_spire104/external_attitude/EXAT01.2022.181.gz\n"
     ]
    },
    {
     "name": "stdout",
     "output_type": "stream",
     "text": [
      "  * Making an external attitude file: EXAT01.2022.182\n",
      "start_date 2022-06-30 18:00:00\n",
      "stop_date 2022-07-02 06:00:00\n",
      "['2022-06-30T00:00:53.684000000' '2022-06-30T00:01:03.684000000'\n",
      " '2022-06-30T00:01:13.684000000' ... '2022-07-03T00:00:22.964000000'\n",
      " '2022-07-03T00:00:32.934000000' '2022-07-03T00:00:42.934000000']\n"
     ]
    },
    {
     "name": "stderr",
     "output_type": "stream",
     "text": [
      "/data/SatDragModelValidation/pygeodyn/pygeodyn/util_dir/attitude_binary.py:172: FutureWarning: 'S' is deprecated and will be removed in a future version, please use 's' instead.\n",
      "  times_linspace = pd.date_range(start=startDT, end=stopDT, freq=freq_str)\n",
      "/data/SatDragModelValidation/data/inputs/sat_spire104/external_attitude/EXAT01.2022.182:\t 60.4% -- replaced with /data/SatDragModelValidation/data/inputs/sat_spire104/external_attitude/EXAT01.2022.182.gz\n"
     ]
    },
    {
     "name": "stdout",
     "output_type": "stream",
     "text": [
      "  * Making an external attitude file: EXAT01.2022.183\n",
      "start_date 2022-07-01 18:00:00\n",
      "stop_date 2022-07-03 06:00:00\n",
      "['2022-07-01T00:00:57.574000000' '2022-07-01T00:01:07.574000000'\n",
      " '2022-07-01T00:01:17.574000000' ... '2022-07-04T00:00:26.934000000'\n",
      " '2022-07-04T00:00:36.934000000' '2022-07-04T00:00:46.934000000']\n"
     ]
    },
    {
     "name": "stderr",
     "output_type": "stream",
     "text": [
      "/data/SatDragModelValidation/pygeodyn/pygeodyn/util_dir/attitude_binary.py:172: FutureWarning: 'S' is deprecated and will be removed in a future version, please use 's' instead.\n",
      "  times_linspace = pd.date_range(start=startDT, end=stopDT, freq=freq_str)\n",
      "/data/SatDragModelValidation/data/inputs/sat_spire104/external_attitude/EXAT01.2022.183:\t 60.5% -- replaced with /data/SatDragModelValidation/data/inputs/sat_spire104/external_attitude/EXAT01.2022.183.gz\n"
     ]
    },
    {
     "name": "stdout",
     "output_type": "stream",
     "text": [
      "  * Making an external attitude file: EXAT01.2022.184\n",
      "start_date 2022-07-02 18:00:00\n",
      "stop_date 2022-07-04 06:00:00\n",
      "['2022-07-02T00:00:58.434000000' '2022-07-02T00:01:08.434000000'\n",
      " '2022-07-02T00:01:18.434000000' ... '2022-07-05T00:00:29.934000000'\n",
      " '2022-07-05T00:00:39.934000000' '2022-07-05T00:00:49.934000000']\n"
     ]
    },
    {
     "name": "stderr",
     "output_type": "stream",
     "text": [
      "/data/SatDragModelValidation/pygeodyn/pygeodyn/util_dir/attitude_binary.py:172: FutureWarning: 'S' is deprecated and will be removed in a future version, please use 's' instead.\n",
      "  times_linspace = pd.date_range(start=startDT, end=stopDT, freq=freq_str)\n",
      "/data/SatDragModelValidation/data/inputs/sat_spire104/external_attitude/EXAT01.2022.184:\t 60.5% -- replaced with /data/SatDragModelValidation/data/inputs/sat_spire104/external_attitude/EXAT01.2022.184.gz\n"
     ]
    },
    {
     "name": "stdout",
     "output_type": "stream",
     "text": [
      "\n",
      "Step 2: Construct/Find a PCE file\n",
      "   Making PCE g2b file: /data/SatDragModelValidation/data/inputs/sat_spire104/g2b/pce_spire104_pso_20220529_20220703\n",
      "        - Initialize Raw Satellite Ephemerides as UTC, Cartesian-ECI-J2000\n",
      "satellite spire104\n",
      "        -SPIRE\n",
      "        - processing raw satellite ephemerides from files.\n",
      "        - for dates: DatetimeIndex(['2022-05-29', '2022-05-30', '2022-05-31', '2022-06-01',\n",
      "               '2022-06-02', '2022-06-03', '2022-06-04', '2022-06-05',\n",
      "               '2022-06-06', '2022-06-07', '2022-06-08', '2022-06-09',\n",
      "               '2022-06-10', '2022-06-11', '2022-06-12', '2022-06-13',\n",
      "               '2022-06-14', '2022-06-15', '2022-06-16', '2022-06-17',\n",
      "               '2022-06-18', '2022-06-19', '2022-06-20', '2022-06-21',\n",
      "               '2022-06-22', '2022-06-23', '2022-06-24', '2022-06-25',\n",
      "               '2022-06-26', '2022-06-27', '2022-06-28', '2022-06-29',\n",
      "               '2022-06-30', '2022-07-01', '2022-07-02', '2022-07-03'],\n",
      "              dtype='datetime64[ns]', freq='D')\n",
      "        - read_SpireLeoOrbPOD_sp3c(): Reading ephemeris data from   485 files.\n",
      "        - read_SpireLeoOrbPOD_sp3c(): Done combining data.\n",
      "        - sorted by date_gps\n",
      "dict_keys(['date_gps', 'x_km', 'y_km', 'z_km', 'clock_microsec', 'xdot_dms', 'ydot_dms', 'zdot_dms'])\n",
      "<class 'pandas._libs.tslibs.timestamps.Timestamp'>\n",
      "<class 'numpy.float64'>\n",
      "        - Converting from ECEF to J2000 using IAU2010 conventions, and \n",
      "          saving satellite ephemeris to single file.\n",
      "(1781809,)\n",
      "\n",
      "       Processed file in :  1448.1262 secs (24.135436666666667 minutes)\n",
      "        - Convert UTC to GPS and convert to MJDS\n",
      "                - done with conversion\n",
      "                - done with the above\n",
      "        - Put data in a DataFrame\n",
      "        - Save prepped PCE as TRAJ.txt\n",
      "        - Free up some memory\n",
      "        - pce_fortran.f compiled\n",
      "        - Run fortran PCE converter\n"
     ]
    },
    {
     "name": "stderr",
     "output_type": "stream",
     "text": [
      "rm: cannot remove ‘/data/SatDragModelValidation/data/inputs/sat_spire104/g2b/pce_spire104_pso_20220529_20220703’: No such file or directory\n"
     ]
    },
    {
     "name": "stdout",
     "output_type": "stream",
     "text": [
      "        - pce_fortran.f executed\n"
     ]
    }
   ],
   "source": [
    "%load_ext autoreload\n",
    "%autoreload 2\n",
    "from gc import collect as gc_collect\n",
    "import pickle \n",
    "import os\n",
    "from datetime import datetime,timedelta\n",
    "\n",
    "\n",
    "# g2b_path = \"/data/SatDragModelValidation/data/inputs/sat_spire083/g2b/\"\n",
    "\n",
    "# dir_save    =  '/data/SatDragModelValidation/data/outputs_clean/'\\\n",
    "#              + 'spire083/O2R_comparisons/1_DRIAruns_3hr/'\n",
    "\n",
    "\n",
    "\n",
    "obj = {}\n",
    "\n",
    "# file_raw_ICs = f\"{g2b_path}Spire083_RawEphem_20181101_20181130.txt\"\n",
    "# file_g2b     = f\"pce_spire083_leoOrb_20181101_20181130\"\n",
    "\n",
    "\n",
    "\n",
    "for i,den in enumerate(run_list):\n",
    "    settings_spire= {# Basic input settings\n",
    "                 'satellite'            : {'input': 'spire104'},\n",
    "                 'den_model'            : {'input': den},\n",
    "                 'initialize_satellite' : {'input': True},\n",
    "                 'run_type'       : {'input': 'DataReduction_PCE'},\n",
    "                 'epoch_start'    : {'input': [\"2022-05-29\",\n",
    "                                               \"2022-07-03\" ]},\n",
    "\n",
    "        \n",
    "\n",
    "                \n",
    "#                  'run_specifier'  : {'input': '_'},\n",
    "#                  'cd_model'       : {'input': 'DRIA'},\n",
    "#                  'file_string'    : {'input': 'DRIAscaled_'},\n",
    "#                  'model_data_path' : {'input': run_dict[den]['model_path']},\n",
    "#                  'verbose' : {'input': True},\n",
    "#                  # Force Model settings\n",
    "#                   'cd_value'              : {'input':1.0 },\n",
    "#                   'scaling_factor'        : {'input':True},\n",
    "#                   'hours_between_cd_adj'  : {'input':scaling_cadence},\n",
    "#                   #### Comment for unadjusted run:\n",
    "#                   'cd_adjustment_boolean' : {'input':True },\n",
    "#                 #### DRIA CD Model Parameters\n",
    "#                 'cd_model_params' : {'input':{ \n",
    "#                         'MS'     : '26.980D0'   ,  #!  molar mass for each panel (g/mol)\n",
    "#                         'TW'     : '300.0D0'    ,  #!  temperature of panels  (K)\n",
    "#                         'ALPHA'  : '0.890D0'    ,  #!  accomodation coefficient, Alpha is b/w 0 and 1\n",
    "#                         'KL'     : '0.0D0'    ,    #!  langmuir parameter\n",
    "#                         'FRACOX' : '1.0D0'   ,     #!  fraction of surface covered by atomic oxygen\n",
    "#                    }},\n",
    "#                   #### ---------------------------------------\n",
    "#                  # Run\n",
    "\n",
    "\n",
    "# #             scaleparameter_times\n",
    "#                   'arc_type'       : {'input':'Nominal30hr'},      \n",
    "#                   'step'           : {'input': 60.},\n",
    "#                   'orbfil_step'    : {'input': 120.},\n",
    "# #                   'which_ICfile'   : {'input':file_raw_ICs},\n",
    "# #                   'which_g2bfile'  : {'input':file_g2b},\n",
    "#                     #\n",
    "# #                   'arc'            : {'input': arc_start},\n",
    "# #                   'epoch_start'    : {'input': epoch_startDT},\n",
    "# #                   'epoch_stop'     : {'input': epoch_endDT},  \n",
    "# #                 'scaleparameter_times' : {'input': scaleparameter_times},  \n",
    "#                    #                                \n",
    "# #                   'global_options' : {'input':'pso_2018'},\n",
    "#                  # Request read on raw outputs\n",
    "#                   'request_data'   : {'input': ['Trajectory_orbfil', \n",
    "#                                                'Density', \n",
    "#                                                'Residuals_summary',\n",
    "#                                                'DragFile',\n",
    "#                                                'AdjustedParams'\n",
    "#                                                ]},\n",
    "              #end dict\n",
    "              }\n",
    "\n",
    "startdate = \"2022-05-29\"\n",
    "enddate   = \"2022-07-03\" \n",
    "\n",
    "sat = Pygeodyn(settings_spire, use_file=False)\n",
    "sat.initialize_timeperiod_stage1(startdate, enddate,\n",
    "                             overwrite_exat=True, \n",
    "                             overwrite_ICtext=True)\n",
    "sat = 0"
   ]
  },
  {
   "cell_type": "markdown",
   "id": "39a94616",
   "metadata": {},
   "source": [
    "# Check G2b file:\n"
   ]
  },
  {
   "cell_type": "code",
   "execution_count": 4,
   "id": "e6ebcc2f",
   "metadata": {
    "ExecuteTime": {
     "end_time": "2024-10-08T17:30:42.166761Z",
     "start_time": "2024-10-08T17:30:42.127222Z"
    }
   },
   "outputs": [
    {
     "ename": "SystemExit",
     "evalue": "0",
     "output_type": "error",
     "traceback": [
      "An exception has occurred, use %tb to see the full traceback.\n",
      "\u001b[0;31mSystemExit\u001b[0m\u001b[0;31m:\u001b[0m 0\n"
     ]
    },
    {
     "name": "stderr",
     "output_type": "stream",
     "text": [
      "/data/miniconda3/envs/pygeodyn2/lib/python3.12/site-packages/IPython/core/interactiveshell.py:3561: UserWarning: To exit: use 'exit', 'quit', or Ctrl-D.\n",
      "  warn(\"To exit: use 'exit', 'quit', or Ctrl-D.\", stacklevel=1)\n"
     ]
    }
   ],
   "source": [
    "import sys\n",
    "sys.exit(0)"
   ]
  },
  {
   "cell_type": "code",
   "execution_count": null,
   "id": "96e82802-8785-46eb-bf66-420d62de0951",
   "metadata": {
    "ExecuteTime": {
     "end_time": "2024-10-08T17:30:42.173047Z",
     "start_time": "2024-10-08T17:30:42.173036Z"
    }
   },
   "outputs": [],
   "source": [
    "filename = '/data/SatDragModelValidation/data/inputs/sat_spire104/g2b/Spire104_RawEphem_20220602_20220629.txt'\n",
    "\n",
    "\n",
    "df      = pd.read_csv(filename,\n",
    "                        skiprows = 23, \n",
    "                        sep = '\\s+',\n",
    "#                         dtype=str,\n",
    "                        names = [\n",
    "                            'DateYMD',\n",
    "                            'DateHMS',\n",
    "                            'X',\n",
    "                            'Y',\n",
    "                            'Z',\n",
    "                            'X_dot',\n",
    "                            'Y_dot',\n",
    "                            'Z_dot',\n",
    "                                ],)                      \n",
    "                     \n",
    "df['Date'] = pd.to_datetime(df['DateYMD']+df['DateHMS'], format='%Y-%m-%d%H:%M:%S')\n",
    "          \n",
    "df = df.sort_values(by='Date')\n",
    "df = df.reset_index(drop=True)\n",
    "\n",
    "\n"
   ]
  },
  {
   "cell_type": "code",
   "execution_count": null,
   "id": "1b7b85ab",
   "metadata": {
    "ExecuteTime": {
     "end_time": "2024-10-08T17:30:42.174105Z",
     "start_time": "2024-10-08T17:30:42.174094Z"
    }
   },
   "outputs": [],
   "source": [
    "# _dict = df.to_dict(orient='list')\n",
    "df"
   ]
  },
  {
   "cell_type": "code",
   "execution_count": null,
   "id": "2191ee30",
   "metadata": {
    "ExecuteTime": {
     "end_time": "2024-10-08T17:30:42.175640Z",
     "start_time": "2024-10-08T17:30:42.175630Z"
    }
   },
   "outputs": [],
   "source": [
    "np.asarray(df['X'].values)"
   ]
  },
  {
   "cell_type": "code",
   "execution_count": null,
   "id": "f7532d8c",
   "metadata": {
    "ExecuteTime": {
     "end_time": "2024-05-03T20:11:59.303112Z",
     "start_time": "2024-05-03T20:11:59.286210Z"
    }
   },
   "outputs": [],
   "source": [
    "\n"
   ]
  },
  {
   "cell_type": "code",
   "execution_count": null,
   "id": "83c0f5f2",
   "metadata": {
    "ExecuteTime": {
     "end_time": "2024-10-08T17:30:42.176688Z",
     "start_time": "2024-10-08T17:30:42.176676Z"
    }
   },
   "outputs": [],
   "source": [
    "import matplotlib.pyplot as plt\n",
    "\n",
    "\n",
    "fig, ax = plt.subplots()\n",
    "\n",
    "ax.plot(df['Date'], df['X'], '-')\n",
    "ax.grid()\n",
    "\n",
    "plt.show()\n"
   ]
  },
  {
   "cell_type": "code",
   "execution_count": null,
   "id": "59831b5c-0e33-49a7-9ca4-4b47f25c724c",
   "metadata": {
    "ExecuteTime": {
     "end_time": "2024-05-03T19:30:49.330080Z",
     "start_time": "2024-05-03T19:30:49.107719Z"
    }
   },
   "outputs": [],
   "source": []
  },
  {
   "cell_type": "code",
   "execution_count": null,
   "id": "3338dd89",
   "metadata": {
    "ExecuteTime": {
     "end_time": "2024-05-03T19:32:08.385283Z",
     "start_time": "2024-05-03T19:32:08.100015Z"
    }
   },
   "outputs": [],
   "source": []
  },
  {
   "cell_type": "markdown",
   "id": "3abc515f-46aa-430e-a625-b7fcc9fcb9a5",
   "metadata": {},
   "source": [
    "# Make Ephemeris File\n",
    "# Make GDN_table.data file\n",
    "# remove Gravity options.\n",
    "Test run"
   ]
  },
  {
   "cell_type": "code",
   "execution_count": null,
   "id": "b0233a54",
   "metadata": {
    "ExecuteTime": {
     "end_time": "2024-10-08T17:30:42.178032Z",
     "start_time": "2024-10-08T17:30:42.178022Z"
    },
    "execution": {
     "iopub.execute_input": "2024-04-30T21:00:01.441713Z",
     "iopub.status.busy": "2024-04-30T21:00:01.441459Z",
     "iopub.status.idle": "2024-04-30T21:00:01.460635Z",
     "shell.execute_reply": "2024-04-30T21:00:01.459862Z",
     "shell.execute_reply.started": "2024-04-30T21:00:01.441691Z"
    }
   },
   "outputs": [],
   "source": [
    "start_date = \"2022-02-03\"\n",
    "\n",
    "startDT = pd.to_datetime(start_date, format='ISO8601')\n"
   ]
  },
  {
   "cell_type": "code",
   "execution_count": null,
   "id": "e0342b99",
   "metadata": {
    "ExecuteTime": {
     "end_time": "2024-10-08T17:30:42.179610Z",
     "start_time": "2024-10-08T17:30:42.179600Z"
    },
    "execution": {
     "iopub.execute_input": "2024-04-30T21:00:01.461939Z",
     "iopub.status.busy": "2024-04-30T21:00:01.461690Z",
     "iopub.status.idle": "2024-04-30T21:00:01.483993Z",
     "shell.execute_reply": "2024-04-30T21:00:01.483137Z",
     "shell.execute_reply.started": "2024-04-30T21:00:01.461918Z"
    }
   },
   "outputs": [],
   "source": [
    "startDT"
   ]
  },
  {
   "cell_type": "code",
   "execution_count": null,
   "id": "99835fca",
   "metadata": {
    "ExecuteTime": {
     "end_time": "2024-04-29T17:29:45.568128Z",
     "start_time": "2024-04-29T17:29:32.159Z"
    }
   },
   "outputs": [],
   "source": []
  },
  {
   "cell_type": "code",
   "execution_count": null,
   "id": "11a15743",
   "metadata": {
    "ExecuteTime": {
     "end_time": "2024-10-08T17:30:42.181575Z",
     "start_time": "2024-10-08T17:30:42.181561Z"
    },
    "execution": {
     "iopub.execute_input": "2024-04-30T21:00:01.486971Z",
     "iopub.status.busy": "2024-04-30T21:00:01.486718Z",
     "iopub.status.idle": "2024-04-30T21:00:01.503807Z",
     "shell.execute_reply": "2024-04-30T21:00:01.502975Z",
     "shell.execute_reply.started": "2024-04-30T21:00:01.486949Z"
    }
   },
   "outputs": [],
   "source": [
    "from astropy import coordinates as coord\n",
    "# from astropy import units as u\n",
    "# from astropy.time import Time\n",
    "# from astropy import time\n",
    "\n",
    "\n"
   ]
  },
  {
   "cell_type": "code",
   "execution_count": null,
   "id": "28aa75d9",
   "metadata": {
    "ExecuteTime": {
     "end_time": "2024-10-08T17:30:42.186524Z",
     "start_time": "2024-10-08T17:30:42.186477Z"
    },
    "execution": {
     "iopub.execute_input": "2024-04-30T21:00:01.505265Z",
     "iopub.status.busy": "2024-04-30T21:00:01.505004Z",
     "iopub.status.idle": "2024-04-30T21:00:01.524102Z",
     "shell.execute_reply": "2024-04-30T21:00:01.523338Z",
     "shell.execute_reply.started": "2024-04-30T21:00:01.505244Z"
    }
   },
   "outputs": [],
   "source": [
    "\n",
    "    \n",
    "#         pickleName = f'_{month}_DRIA_scale{scale_cadence}.pkl'\n",
    "\n",
    "#         pickle_file = dir_save+den+pickleName\n",
    "#         if not os.path.exists(pickle_file):\n",
    "#             print('Must create pickle file...')\n",
    "#             print('   ',  pickle_file)\n",
    "#             print('   ', 'Reading Geodyn Data')\n",
    "\n",
    "#             ### Load the data into an object\n",
    "#             sat = Pygeodyn(settings_icesat2, use_file=False)\n",
    "#             obj = sat.getData_BigData_lowmemory(orbit_propagation=False)\n",
    "#             gc_collect()\n",
    "\n",
    "#             #### Pickle the object to save it\n",
    "#             print('   ', 'Saving pickle')\n",
    "#             filehandler = open(pickle_file, 'wb') \n",
    "#             pickle.dump(vars(obj), filehandler)\n",
    "#             filehandler.close()\n",
    "#             obj = 0\n",
    "#             print('   ', 'Saved pickle')\n",
    "\n",
    "# range\n",
    "\n",
    "# obj = {}\n",
    "# for i,model in enumerate(run_list):\n",
    "#     for imonth,month in enumerate(month_list):\n",
    "#         pickleName = f'_{month}_DRIA_scale{scale_cadence}.pkl'\n",
    "\n",
    "#         ### Load the data if the pickles exist\n",
    "#         print()\n",
    "#         print()\n",
    "#         gc_collect()\n",
    "\n",
    "#         pickle_file = dir_save+model+pickleName\n",
    "\n",
    "#         filehandler = open(pickle_file, 'rb') \n",
    "#         obj[month+model] = pickle.load(filehandler)\n",
    "#         filehandler.close()\n",
    "#         print('Loaded data from pickle... ',  model)\n",
    "    \n",
    "    \n",
    "# ### Save space if doing density retrieval\n",
    "# for model in run_dict.keys():\n",
    "#     del obj[model]['OrbitResids']\n",
    "#     del obj[model]['Trajectory_orbfil']\n",
    "    \n",
    "# gc_collect()"
   ]
  }
 ],
 "metadata": {
  "kernelspec": {
   "display_name": "Python 3 (ipykernel)",
   "language": "python",
   "name": "python3"
  },
  "language_info": {
   "codemirror_mode": {
    "name": "ipython",
    "version": 3
   },
   "file_extension": ".py",
   "mimetype": "text/x-python",
   "name": "python",
   "nbconvert_exporter": "python",
   "pygments_lexer": "ipython3",
   "version": "3.12.2"
  },
  "toc": {
   "base_numbering": 1,
   "nav_menu": {},
   "number_sections": true,
   "sideBar": true,
   "skip_h1_title": false,
   "title_cell": "Table of Contents",
   "title_sidebar": "Contents",
   "toc_cell": false,
   "toc_position": {},
   "toc_section_display": true,
   "toc_window_display": false
  },
  "varInspector": {
   "cols": {
    "lenName": 16,
    "lenType": 16,
    "lenVar": 40
   },
   "kernels_config": {
    "python": {
     "delete_cmd_postfix": "",
     "delete_cmd_prefix": "del ",
     "library": "var_list.py",
     "varRefreshCmd": "print(var_dic_list())"
    },
    "r": {
     "delete_cmd_postfix": ") ",
     "delete_cmd_prefix": "rm(",
     "library": "var_list.r",
     "varRefreshCmd": "cat(var_dic_list()) "
    }
   },
   "types_to_exclude": [
    "module",
    "function",
    "builtin_function_or_method",
    "instance",
    "_Feature"
   ],
   "window_display": false
  }
 },
 "nbformat": 4,
 "nbformat_minor": 5
}
